{
 "cells": [
  {
   "cell_type": "code",
   "execution_count": null,
   "id": "dfd61de4",
   "metadata": {},
   "outputs": [],
   "source": [
    "# importing libraries\n",
    "import pandas as pd\n",
    "from datasets import load_dataset\n",
    "import matplotlib.pyplot as plt\n",
    "\n",
    "# Loading data\n",
    "!pip install datasets\n",
    "dataset = load_dataset('lukebarousse/data_jobs')\n",
    "df = dataset['train'].to_pandas()\n",
    "\n",
    "# data_cleanup\n",
    "df['job_posted_date'] = pd.to_datetime(df['job_posted_date'])"
   ]
  },
  {
   "cell_type": "code",
   "execution_count": null,
   "id": "694fc5ec",
   "metadata": {},
   "outputs": [],
   "source": [
    "df.pivot_table(index=\"job_title_short\",aggfunc='size')"
   ]
  },
  {
   "cell_type": "code",
   "execution_count": null,
   "id": "5d26ae27",
   "metadata": {},
   "outputs": [],
   "source": [
    "df.groupby('job_title_short').size()"
   ]
  },
  {
   "cell_type": "code",
   "execution_count": null,
   "id": "fc9d72f2",
   "metadata": {},
   "outputs": [],
   "source": [
    "df_job_countries_salary=df.pivot_table(values='salary_year_avg',columns='job_country',index=\"job_title_short\",aggfunc='median')"
   ]
  },
  {
   "cell_type": "code",
   "execution_count": null,
   "id": "a09cd4c5",
   "metadata": {},
   "outputs": [],
   "source": [
    "df.groupby(['job_country', 'job_title_short'])['salary_year_avg'].agg(['max', 'median', 'min']).dropna()"
   ]
  },
  {
   "cell_type": "code",
   "execution_count": null,
   "id": "d1bc9fa1",
   "metadata": {},
   "outputs": [],
   "source": [
    "df_job_country_salary = df.pivot_table(\n",
    "    values='salary_year_avg',        # The data to aggregate\n",
    "    index='job_country',             # Rows (index of pivot table)\n",
    "    columns='job_title_short',       # Columns (pivot table headers)\n",
    "    aggfunc='median'                 # Aggregation function\n",
    ")\n",
    "\n",
    "df_job_country_salary"
   ]
  },
  {
   "cell_type": "code",
   "execution_count": null,
   "id": "260cb379",
   "metadata": {},
   "outputs": [],
   "source": [
    "# make a list of top 6 countries\n",
    "top_countries = df['job_country'].value_counts().head(6).index\n",
    "\n",
    "# filter df_job_country_salary for top 6 countries\n",
    "df_job_country_salary = df_job_country_salary.loc[top_countries]\n",
    "\n",
    "# filter df_job_country_salary for list of 6 job titles\n",
    "job_titles = ['Data Analyst', 'Data Engineer', 'Data Scientist'] # 'Senior Data Analyst', 'Senior Data Engineer', 'Senior Data Scientist']\n",
    "df_job_country_salary = df_job_country_salary[job_titles]\n",
    "\n",
    "df_job_country_salary.plot(kind='bar')\n",
    "plt.ylabel('Median Salary ($USD)')\n",
    "plt.xlabel('')\n",
    "plt.title('Median Salary by Country and Job Title')  \n",
    "plt.xticks(rotation=45, ha='right')\n",
    "plt.show()"
   ]
  },
  {
   "cell_type": "code",
   "execution_count": null,
   "id": "af861136",
   "metadata": {},
   "outputs": [],
   "source": [
    "df_usa = df[df['job_country'] == 'United States']\n",
    "df_usa.reset_index(inplace=True)\n"
   ]
  },
  {
   "cell_type": "code",
   "execution_count": null,
   "id": "7a80e160",
   "metadata": {},
   "outputs": [],
   "source": [
    "median_pivot = df.pivot_table(values='salary_year_avg', index='job_title_short', aggfunc='median')\n",
    "median_pivot"
   ]
  },
  {
   "cell_type": "code",
   "execution_count": null,
   "id": "58ab98e7",
   "metadata": {},
   "outputs": [],
   "source": [
    "index_name = median_pivot.index.name  \n",
    "index_name"
   ]
  },
  {
   "cell_type": "code",
   "execution_count": null,
   "id": "c71d3184",
   "metadata": {},
   "outputs": [],
   "source": [
    "index_dtype = median_pivot.index.dtype  \n",
    "index_dtype"
   ]
  },
  {
   "cell_type": "code",
   "execution_count": null,
   "id": "aa81caef",
   "metadata": {},
   "outputs": [],
   "source": [
    "df_usa = df[df['job_country'] == 'United States']\n",
    "\n",
    "df_usa.head(5)"
   ]
  },
  {
   "cell_type": "code",
   "execution_count": null,
   "id": "3896c9d8",
   "metadata": {},
   "outputs": [],
   "source": [
    "## Skill count per month for data analysts\n",
    "df_US = df[df['job_country'] == 'United States'].copy()"
   ]
  }
 ],
 "metadata": {
  "kernelspec": {
   "display_name": "python_course",
   "language": "python",
   "name": "python3"
  },
  "language_info": {
   "codemirror_mode": {
    "name": "ipython",
    "version": 3
   },
   "file_extension": ".py",
   "mimetype": "text/x-python",
   "name": "python",
   "nbconvert_exporter": "python",
   "pygments_lexer": "ipython3",
   "version": "3.13.5"
  }
 },
 "nbformat": 4,
 "nbformat_minor": 5
}
