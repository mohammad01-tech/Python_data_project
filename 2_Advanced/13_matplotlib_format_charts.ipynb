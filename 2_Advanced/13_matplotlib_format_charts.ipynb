{
 "cells": [
  {
   "cell_type": "code",
   "execution_count": null,
   "id": "094433bf",
   "metadata": {},
   "outputs": [],
   "source": [
    "# Importing Libraries\n",
    "import ast\n",
    "import pandas as pd\n",
    "from datasets import load_dataset\n",
    "import matplotlib.pyplot as plt  \n",
    "\n",
    "# Loading Data\n",
    "dataset = load_dataset('lukebarousse/data_jobs')\n",
    "df = dataset['train'].to_pandas()\n",
    "\n",
    "# Data Cleanup\n",
    "df['job_posted_date'] = pd.to_datetime(df['job_posted_date'])\n",
    "df['job_skills'] = df['job_skills'].apply(lambda x: ast.literal_eval(x) if pd.notna(x) else x)"
   ]
  },
  {
   "cell_type": "code",
   "execution_count": null,
   "id": "7a12ce76",
   "metadata": {},
   "outputs": [],
   "source": [
    "fig, ax = plt.subplots(1, 2)\n",
    "\n",
    "df['job_title_short'].value_counts().plot(kind='bar', ax=ax[0])\n",
    "df['job_schedule_type'].value_counts().head(3).plot(kind='bar', ax=ax[1])\n",
    "\n",
    "# fix the overlap\n",
    "fig.tight_layout()\n",
    "\n",
    "plt.show()"
   ]
  },
  {
   "cell_type": "code",
   "execution_count": null,
   "id": "62d34829",
   "metadata": {},
   "outputs": [],
   "source": [
    "df_skills = df.copy()\n",
    "df_skills = df_skills.explode('job_skills')\n",
    "skills_count = df_skills.groupby(['job_skills', 'job_title_short']).size()\n",
    "df_skills_count = skills_count.reset_index(name='skill_count')\n",
    "df_skills_count.sort_values(by='skill_count', ascending=False, inplace=True)\n",
    "\n",
    "df_skills_count"
   ]
  },
  {
   "cell_type": "code",
   "execution_count": null,
   "id": "8d754d58",
   "metadata": {},
   "outputs": [],
   "source": [
    "job_titles = ['Data scientist','Data Engineer','Data Analyst']"
   ]
  },
  {
   "cell_type": "code",
   "execution_count": null,
   "id": "91c106f6",
   "metadata": {},
   "outputs": [],
   "source": [
    "# fig, ax = plt.subplots(len(job_titles), 1)\n",
    "\n",
    "# for i, job_title in enumerate(job_titles):\n",
    "#     df_plot = df_skills_count[df_skills_count['job_title_short'] == job_title].head(5)\n",
    "#     df_plot.plot(kind='barh', x='job_skills', y='skill_count', ax=ax[i], title=job_title)\n",
    "#     ax[i].invert_yaxis()\n",
    "#     ax[i].set_ylabel('')\n",
    "#     ax[i].legend().set_visible(False)\n",
    "\n",
    "# fig.suptitle('Counts of Top Skills in Job Postings', fontsize=15)\n",
    "# plt.show()"
   ]
  },
  {
   "cell_type": "code",
   "execution_count": null,
   "id": "5c90e91f",
   "metadata": {},
   "outputs": [],
   "source": []
  }
 ],
 "metadata": {
  "kernelspec": {
   "display_name": "python_course",
   "language": "python",
   "name": "python3"
  },
  "language_info": {
   "codemirror_mode": {
    "name": "ipython",
    "version": 3
   },
   "file_extension": ".py",
   "mimetype": "text/x-python",
   "name": "python",
   "nbconvert_exporter": "python",
   "pygments_lexer": "ipython3",
   "version": "3.13.5"
  }
 },
 "nbformat": 4,
 "nbformat_minor": 5
}
