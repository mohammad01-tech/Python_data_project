{
 "cells": [
  {
   "cell_type": "code",
   "execution_count": null,
   "id": "b0c28bca",
   "metadata": {},
   "outputs": [],
   "source": [
    "# Importing Libraries\n",
    "import ast\n",
    "import pandas as pd\n",
    "from datasets import load_dataset\n",
    "import matplotlib.pyplot as plt  \n",
    "\n",
    "# Loading Data\n",
    "dataset = load_dataset('lukebarousse/data_jobs')\n",
    "df = dataset['train'].to_pandas()\n",
    "\n",
    "# Data Cleanup\n",
    "df['job_posted_date'] = pd.to_datetime(df['job_posted_date'])\n",
    "df['job_skills'] = df['job_skills'].apply(lambda x: ast.literal_eval(x) if pd.notna(x) else x)"
   ]
  },
  {
   "cell_type": "code",
   "execution_count": null,
   "id": "084900fd",
   "metadata": {},
   "outputs": [],
   "source": [
    "# Count True and False values\n",
    "work_from_home = df['job_work_from_home'].value_counts().plot(kind='pie',startangle=90, autopct='%1.1f%%')\n",
    "plt.title('Work from home status')\n",
    "plt.ylabel(\"\")\n",
    "plt.show\n",
    "work_from_home"
   ]
  },
  {
   "cell_type": "code",
   "execution_count": null,
   "id": "c94fe4a9",
   "metadata": {},
   "outputs": [],
   "source": [
    "df_job_title_short = df['job_title_short'].value_counts().head(3)\n",
    "df_job_title_short.plot(kind='pie',\n",
    "    startangle=90,\n",
    "    autopct='%1.1f%%',\n",
    "    figsize=(6, 6))\n",
    "\n"
   ]
  },
  {
   "cell_type": "code",
   "execution_count": null,
   "id": "771de090",
   "metadata": {},
   "outputs": [],
   "source": [
    "# rewrite the above with a for loop\n",
    "dict_column = {\n",
    "    'job_work_from_home': 'Work from Home Offered',\n",
    "    'job_no_degree_mention': 'Degree Requirement',\n",
    "    'job_health_insurance': 'Health Insurance Offered'\n",
    "}\n",
    "\n",
    "fig, ax = plt.subplots(1, 3)\n",
    "fig.set_size_inches((12, 5))\n",
    "\n",
    "for i, (column, title) in enumerate(dict_column.items()):\n",
    "    ax[i].pie(df[column].value_counts(), labels=['False', 'True'], autopct='%1.1f%%', startangle=90)\n",
    "    ax[i].set_title(title)\n",
    "\n",
    "# plt.suptitle('Benefit Analysis of Data Jobs', fontsize=16)\n",
    "plt.show()"
   ]
  },
  {
   "cell_type": "code",
   "execution_count": 39,
   "id": "36925227",
   "metadata": {},
   "outputs": [],
   "source": [
    "job_no_degree_mention = df['job_no_degree_mention'].value_counts"
   ]
  },
  {
   "cell_type": "code",
   "execution_count": 40,
   "id": "0242b028",
   "metadata": {},
   "outputs": [],
   "source": [
    "job_health_insurance = df['job_health_insurance'].value_counts()"
   ]
  },
  {
   "cell_type": "code",
   "execution_count": null,
   "id": "3ec43676",
   "metadata": {},
   "outputs": [],
   "source": []
  }
 ],
 "metadata": {
  "kernelspec": {
   "display_name": "python_course",
   "language": "python",
   "name": "python3"
  },
  "language_info": {
   "codemirror_mode": {
    "name": "ipython",
    "version": 3
   },
   "file_extension": ".py",
   "mimetype": "text/x-python",
   "name": "python",
   "nbconvert_exporter": "python",
   "pygments_lexer": "ipython3",
   "version": "3.13.5"
  }
 },
 "nbformat": 4,
 "nbformat_minor": 5
}
