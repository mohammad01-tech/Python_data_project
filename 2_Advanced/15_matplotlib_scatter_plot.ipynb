{
 "cells": [
  {
   "cell_type": "code",
   "execution_count": null,
   "id": "785fabff",
   "metadata": {},
   "outputs": [],
   "source": [
    "\n",
    "# Importing Libraries\n",
    "import ast\n",
    "import pandas as pd\n",
    "from datasets import load_dataset\n",
    "import matplotlib.pyplot as plt  \n",
    "\n",
    "# Loading Data\n",
    "dataset = load_dataset('lukebarousse/data_jobs')\n",
    "df = dataset['train'].to_pandas()\n",
    "\n",
    "# Data Cleanup\n",
    "df['job_posted_date'] = pd.to_datetime(df['job_posted_date'])\n",
    "df['job_skills'] = df['job_skills'].apply(lambda x: ast.literal_eval(x) if pd.notna(x) else x)"
   ]
  },
  {
   "cell_type": "code",
   "execution_count": null,
   "id": "9df5ffb1",
   "metadata": {},
   "outputs": [],
   "source": [
    "df = df[df['job_title_short'] == 'Data Analyst'].copy()"
   ]
  },
  {
   "cell_type": "code",
   "execution_count": null,
   "id": "ad330844",
   "metadata": {},
   "outputs": [],
   "source": [
    "df_exploded = df.explode('job_skills')\n",
    "\n",
    "skill_stats = df_exploded.groupby('job_skills').agg(\n",
    "    skill_count = ('job_skills','count'),\n",
    "    median_salary = ('salary_year_avg','median')\n",
    ")\n",
    "skill_stats.sort_values(by= 'skill_count',ascending=False).head(10)\n"
   ]
  },
  {
   "cell_type": "code",
   "execution_count": null,
   "id": "a4856e39",
   "metadata": {},
   "outputs": [],
   "source": [
    "skill_stats = skill_stats.sort_values(by= 'skill_count',ascending=False).head(10)\n",
    "\n",
    "skill_stats.plot(kind='scatter', x='skill_count', y= 'median_salary')\n",
    "plt.xlabel('count of Job Postings')\n",
    "plt.ylabel('median Yearly Salary')\n",
    "plt.title('Salary vs. Count of Job Posting for Top 10 skills')\n",
    "plt.tight_layout()\n",
    "\n",
    "for i, txt in enumerate(skill_stats.index):\n",
    "    plt.text(skill_stats['skill_count'].iloc[i], skill_stats['median_salary'].iloc[i], txt) \n",
    "plt.show()"
   ]
  }
 ],
 "metadata": {
  "kernelspec": {
   "display_name": "python_course",
   "language": "python",
   "name": "python3"
  },
  "language_info": {
   "codemirror_mode": {
    "name": "ipython",
    "version": 3
   },
   "file_extension": ".py",
   "mimetype": "text/x-python",
   "name": "python",
   "nbconvert_exporter": "python",
   "pygments_lexer": "ipython3",
   "version": "3.13.5"
  }
 },
 "nbformat": 4,
 "nbformat_minor": 5
}
