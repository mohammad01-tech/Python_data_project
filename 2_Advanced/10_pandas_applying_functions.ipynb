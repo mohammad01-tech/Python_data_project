{
 "cells": [
  {
   "cell_type": "code",
   "execution_count": null,
   "id": "c7389ee1",
   "metadata": {},
   "outputs": [],
   "source": [
    "import pandas as pd\n",
    "from datasets import load_dataset\n",
    "import matplotlib.pyplot as plt  \n",
    "\n",
    "# Loading Data\n",
    "dataset = load_dataset('lukebarousse/data_jobs')\n",
    "df = dataset['train'].to_pandas()\n",
    "\n",
    "# Data Cleanup\n",
    "df['job_posted_date'] = pd.to_datetime(df['job_posted_date'])\n",
    "df"
   ]
  },
  {
   "cell_type": "code",
   "execution_count": null,
   "id": "e2a02195",
   "metadata": {},
   "outputs": [],
   "source": [
    "help(df.apply)"
   ]
  },
  {
   "cell_type": "code",
   "execution_count": null,
   "id": "ded1f258",
   "metadata": {},
   "outputs": [],
   "source": [
    "df"
   ]
  },
  {
   "cell_type": "code",
   "execution_count": null,
   "id": "0e845af5",
   "metadata": {},
   "outputs": [],
   "source": [
    "df[pd.notna(df['salary_year_avg'])][\"salary_year_avg\"]"
   ]
  },
  {
   "cell_type": "code",
   "execution_count": null,
   "id": "46b4a726",
   "metadata": {},
   "outputs": [],
   "source": [
    "def inflation(salary):\n",
    "    return salary * 1.03\n",
    "\n",
    "df['salary_year_inflated'] = df['salary_year_avg'].apply(inflation)\n",
    "\n",
    "df[pd.notna(df['salary_year_avg'])][['salary_year_avg', 'salary_year_inflated']]"
   ]
  },
  {
   "cell_type": "code",
   "execution_count": null,
   "id": "421629f3",
   "metadata": {},
   "outputs": [],
   "source": [
    "df['salary_year_inflated'] = df['salary_year_avg'].apply(lambda salary: salary * 1.03)\n",
    "\n",
    "df[pd.notna(df['salary_year_avg'])][['salary_year_avg', 'salary_year_inflated']]"
   ]
  },
  {
   "cell_type": "code",
   "execution_count": null,
   "id": "5276fcd3",
   "metadata": {},
   "outputs": [],
   "source": [
    "def projected_salary(row):\n",
    "    if \"senior\" in row['job_title_short']:\n",
    "        return 1.05 * row['salary_year_avg']\n",
    "    else :\n",
    "        return 1.03 * row['salary_year_avg']\n",
    "\n",
    "df['salary_year_inflated'] = df.apply(projected_salary, axis = 1)\n",
    "df[pd.notna(df['salary_year_avg'])][['job_title_short','salary_year_avg','salary_year_inflated']]"
   ]
  },
  {
   "cell_type": "code",
   "execution_count": null,
   "id": "b07b38ab",
   "metadata": {},
   "outputs": [],
   "source": [
    "df"
   ]
  }
 ],
 "metadata": {
  "kernelspec": {
   "display_name": "python_course",
   "language": "python",
   "name": "python3"
  },
  "language_info": {
   "codemirror_mode": {
    "name": "ipython",
    "version": 3
   },
   "file_extension": ".py",
   "mimetype": "text/x-python",
   "name": "python",
   "nbconvert_exporter": "python",
   "pygments_lexer": "ipython3",
   "version": "3.13.5"
  }
 },
 "nbformat": 4,
 "nbformat_minor": 5
}
