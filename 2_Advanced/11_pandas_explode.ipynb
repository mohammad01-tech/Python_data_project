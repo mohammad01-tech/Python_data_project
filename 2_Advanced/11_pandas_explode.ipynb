{
 "cells": [
  {
   "cell_type": "code",
   "execution_count": null,
   "id": "b7d01d97",
   "metadata": {},
   "outputs": [],
   "source": [
    "# Importing Libraries\n",
    "import ast \n",
    "import pandas as pd\n",
    "from datasets import load_dataset\n",
    "import matplotlib.pyplot as plt\n",
    "# loading data\n",
    "dataset = load_dataset('lukebarousse/data_jobs')\n",
    "df = dataset['train'].to_pandas()\n",
    "\n",
    "# Data Cleanup\n",
    "df['job_posted_date'] = pd.to_datetime(df['job_posted_date'])"
   ]
  },
  {
   "cell_type": "code",
   "execution_count": null,
   "id": "bbb6ae16",
   "metadata": {},
   "outputs": [],
   "source": [
    "data = {\n",
    "    'job_title_short': ['Data Analyst', 'Data Scientist', 'Data Engineer'],\n",
    "    'job_skills': [['excel', 'sql', 'python'], ['python', 'r'], ['aws', 'python', 'airflow']]\n",
    "}\n",
    "\n",
    "df_skills = pd.DataFrame(data)\n",
    "\n",
    "df_skills"
   ]
  },
  {
   "cell_type": "code",
   "execution_count": null,
   "id": "0be07d9b",
   "metadata": {},
   "outputs": [],
   "source": [
    "df_exploded = df_skills.explode('job_skills')\n",
    "\n",
    "df_exploded"
   ]
  },
  {
   "cell_type": "code",
   "execution_count": null,
   "id": "4150f496",
   "metadata": {},
   "outputs": [],
   "source": [
    "df_exploded.value_counts('job_skills')"
   ]
  },
  {
   "cell_type": "code",
   "execution_count": null,
   "id": "1799ae09",
   "metadata": {},
   "outputs": [],
   "source": [
    "df_exploded.value_counts('job_skills').plot(kind='bar')"
   ]
  },
  {
   "cell_type": "code",
   "execution_count": null,
   "id": "0d1e1512",
   "metadata": {},
   "outputs": [],
   "source": [
    "df['job_skills'] = df['job_skills'].apply(lambda x: ast.literal_eval(x) if pd.notna(x) else x)"
   ]
  },
  {
   "cell_type": "code",
   "execution_count": null,
   "id": "1de5f67b",
   "metadata": {},
   "outputs": [],
   "source": [
    "# df['job_skills'] = df['job_skills'].apply(lambda x: ast.literal_eval(x) if pd.notna(x) else x)\n",
    "\n",
    "df[['job_title_short', 'job_skills']].head(5)"
   ]
  },
  {
   "cell_type": "code",
   "execution_count": null,
   "id": "1bbf261f",
   "metadata": {},
   "outputs": [],
   "source": [
    "# Explode 'job_skills' so each skill gets its own row\n",
    "df_exploded = df.explode('job_skills')"
   ]
  },
  {
   "cell_type": "code",
   "execution_count": null,
   "id": "225d44f6",
   "metadata": {},
   "outputs": [],
   "source": [
    "df_exploded['job_skills']"
   ]
  },
  {
   "cell_type": "code",
   "execution_count": null,
   "id": "03a3b960",
   "metadata": {},
   "outputs": [],
   "source": [
    "df_exploded['job_skills'].value_counts().head(10).plot(kind='bar')"
   ]
  },
  {
   "cell_type": "code",
   "execution_count": null,
   "id": "51c26428",
   "metadata": {},
   "outputs": [],
   "source": [
    "skill_count = df_exploded.groupby(['job_skills','job_title_short']).size()"
   ]
  },
  {
   "cell_type": "code",
   "execution_count": null,
   "id": "eb7610bf",
   "metadata": {},
   "outputs": [],
   "source": [
    "df_skill_count = skill_count.reset_index(name='skill_count')\n",
    "df_skill_count"
   ]
  },
  {
   "cell_type": "code",
   "execution_count": null,
   "id": "5a98c311",
   "metadata": {},
   "outputs": [],
   "source": [
    "df_skill_count = df_skill_count.sort_values(by='skill_count',ascending=False)\n",
    "df_skill_count"
   ]
  },
  {
   "cell_type": "code",
   "execution_count": null,
   "id": "fa304246",
   "metadata": {},
   "outputs": [],
   "source": [
    "job_title = 'Data Engineer'\n",
    "top_skill = 15\n",
    "\n",
    "df_skill_final = df_skill_count[df_skill_count['job_title_short'] == job_title].head(top_skill)\n",
    "df_skill_final.plot(kind='barh',x='job_skills',y='skill_count')\n",
    "plt.gca().invert_yaxis()\n",
    "plt.title(f\"Top {top_skill} skills for {job_title}s\")\n",
    "plt.xlabel('Job Posting count')\n",
    "plt.ylabel(\" \")\n",
    "plt.legend().set_visible(False)\n",
    "plt.show"
   ]
  },
  {
   "cell_type": "code",
   "execution_count": null,
   "id": "53fa4dae",
   "metadata": {},
   "outputs": [],
   "source": []
  }
 ],
 "metadata": {
  "kernelspec": {
   "display_name": "python_course",
   "language": "python",
   "name": "python3"
  },
  "language_info": {
   "codemirror_mode": {
    "name": "ipython",
    "version": 3
   },
   "file_extension": ".py",
   "mimetype": "text/x-python",
   "name": "python",
   "nbconvert_exporter": "python",
   "pygments_lexer": "ipython3",
   "version": "3.13.5"
  }
 },
 "nbformat": 4,
 "nbformat_minor": 5
}
